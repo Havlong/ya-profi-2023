{
 "cells": [
  {
   "cell_type": "markdown",
   "id": "b2b9a0e4-2e94-49f3-89c7-13cb5f28abcd",
   "metadata": {},
   "source": [
    "# Задание 1\n",
    "\n",
    "Amount of FLOPS for `ABc+DEFg`. Assignment ops doesn't count, only sums and multiplications\n",
    "\n",
    "Matrix sizes:\n",
    "- `A`: `m * n`\n",
    "- `B`: `n * p`\n",
    "- `c`: vector of `p` numbers\n",
    "- `D`: `m * k`\n",
    "- `E`: `k * l`\n",
    "- `F`: `l * p`\n",
    "- `g`: vector of `p` numbers"
   ]
  },
  {
   "cell_type": "code",
   "execution_count": 1,
   "id": "d31cabda-c927-4c01-909e-dcceeddb2c30",
   "metadata": {},
   "outputs": [],
   "source": [
    "m=10\n",
    "n=7\n",
    "p=4\n",
    "k=3\n",
    "l=8"
   ]
  },
  {
   "cell_type": "code",
   "execution_count": 2,
   "id": "4125be9a-95ae-4d43-8f00-427ee40a9566",
   "metadata": {},
   "outputs": [],
   "source": [
    "def matsum(n, m=1):\n",
    "    return n * m\n",
    "\n",
    "def matmul(n, k, m=1):\n",
    "    return n * m * (k + k - 1)"
   ]
  },
  {
   "cell_type": "code",
   "execution_count": 3,
   "id": "332844df-0dbb-4fa1-9b36-9ca1c6af72c6",
   "metadata": {},
   "outputs": [
    {
     "data": {
      "text/plain": [
       "179"
      ]
     },
     "execution_count": 3,
     "metadata": {},
     "output_type": "execute_result"
    }
   ],
   "source": [
    "added = min(matmul(m, n, p) + matmul(m, p), # (AB)c\n",
    "            matmul(n, p) + matmul(m, n))    # A(Bc)\n",
    "result = added\n",
    "added"
   ]
  },
  {
   "cell_type": "code",
   "execution_count": 4,
   "id": "0513d4bd-8802-4ebd-aae4-0b582e4b88a4",
   "metadata": {},
   "outputs": [
    {
     "data": {
      "text/plain": [
       "111"
      ]
     },
     "execution_count": 4,
     "metadata": {},
     "output_type": "execute_result"
    }
   ],
   "source": [
    "added = min(matmul(m, k, l) + matmul(m, l, p) + matmul(m, p), # ((DE)F)g\n",
    "            matmul(l, p) + matmul(m, k, l) + matmul(m, l),    # (DE)(Fg)\n",
    "            matmul(k, l, p) + matmul(m, k, l) + matmul(m, l), # D(EF)g\n",
    "            matmul(k, l, p) + matmul(k, p) + matmul(m, k),    # D((EF)g)\n",
    "            matmul(k, p) + matmul(l, k) + matmul(m, k))       # D(E(Fg))\n",
    "result += added\n",
    "added"
   ]
  },
  {
   "cell_type": "code",
   "execution_count": 5,
   "id": "39c2c28f-789f-41fa-be73-390141a1ab5c",
   "metadata": {},
   "outputs": [
    {
     "data": {
      "text/plain": [
       "300"
      ]
     },
     "execution_count": 5,
     "metadata": {},
     "output_type": "execute_result"
    }
   ],
   "source": [
    "result += matsum(m)\n",
    "result"
   ]
  }
 ],
 "metadata": {
  "kernelspec": {
   "display_name": "Python 3 (ipykernel)",
   "language": "python",
   "name": "python3"
  },
  "language_info": {
   "codemirror_mode": {
    "name": "ipython",
    "version": 3
   },
   "file_extension": ".py",
   "mimetype": "text/x-python",
   "name": "python",
   "nbconvert_exporter": "python",
   "pygments_lexer": "ipython3",
   "version": "3.11.0rc1"
  }
 },
 "nbformat": 4,
 "nbformat_minor": 5
}
