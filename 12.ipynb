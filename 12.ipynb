{
 "cells": [
  {
   "cell_type": "markdown",
   "id": "8bb1ccd9-bdc0-49e6-a1d4-ab712fe87958",
   "metadata": {},
   "source": [
    "# Задание 12\n",
    "\n",
    "В этой задаче вам необходимо восстановить поле, которое образуется в результате продувки в аэродинамической трубе.\n",
    "Вам задан набор данных `train.csv`, состоящий из следующих полей:\n",
    "\n",
    "`x`, `y`, `z` — координаты точки в пространстве\n",
    "\n",
    "`uz`, `uy`, `uz` — вектор скорости потока в данной точке\n",
    "\n",
    "`p` — давление в данной точке\n",
    "\n",
    "Набор данных test.csv содержит только координаты `(x, y, z)`.\n",
    "\n",
    "Вам необходимо послать в тестирующую систему файл `submission.csv`, `k`-я строка которого будет содержать предсказанные значения \n",
    "`ux`, `uy`, `uz`, `p` для `k`-ой строки файла `test.csv`. Предсказанные таргеты в каждой строке разделяются запятыми. Нулевая строка должна содержать название колонок (игнорируются при чтении).\n",
    "\n",
    "После корректировки условия, метрика: \n",
    "$$\n",
    "\\frac{10}{4} * (min(1, max(0, \\frac{1.9 - MAE_{u_x}}{1.9 - 1.1})) + min(1, max(0, \\frac{1.9 - MAE_{u_y}}{1.9 - 1.1})) + min(1, max(0, \\frac{1.9 - MAE_{u_z}}{1.9 - 1.1})) + min(1, max(0, \\frac{1900 - MAE_p}{1900 - 500})))\n",
    "$$"
   ]
  },
  {
   "cell_type": "code",
   "execution_count": 1,
   "id": "555cdc26-b5cf-4007-84d4-53ea0612e6a5",
   "metadata": {},
   "outputs": [],
   "source": [
    "import warnings\n",
    "warnings.simplefilter(action='ignore', category=FutureWarning)\n",
    "%matplotlib inline\n",
    "\n",
    "import os\n",
    "import pandas as pd\n",
    "import numpy as np\n",
    "\n",
    "import seaborn as sns\n",
    "import matplotlib.pyplot as plt\n",
    "sns.set()\n",
    "\n",
    "train_name = 'train.csv'\n",
    "test_name = 'test.csv'\n",
    "sample_name = 'sample_submission.csv'\n",
    "submission_name = 'submission.csv'\n",
    "\n",
    "# Hide GPU from TensorFlow\n",
    "# os.environ[\"CUDA_VISIBLE_DEVICES\"] = \"-1\"\n",
    "\n",
    "data_path = os.path.join('/tf','shared_data','profi-23', '12') + os.path.sep\n",
    "train_path = data_path + train_name\n",
    "test_path = data_path + test_name\n",
    "sample_path = data_path + sample_name\n",
    "submission_path = data_path + submission_name"
   ]
  },
  {
   "cell_type": "code",
   "execution_count": 2,
   "id": "d3645a61-f7be-490a-8d6b-343ad6e6fdba",
   "metadata": {},
   "outputs": [
    {
     "data": {
      "text/html": [
       "<div>\n",
       "<style scoped>\n",
       "    .dataframe tbody tr th:only-of-type {\n",
       "        vertical-align: middle;\n",
       "    }\n",
       "\n",
       "    .dataframe tbody tr th {\n",
       "        vertical-align: top;\n",
       "    }\n",
       "\n",
       "    .dataframe thead th {\n",
       "        text-align: right;\n",
       "    }\n",
       "</style>\n",
       "<table border=\"1\" class=\"dataframe\">\n",
       "  <thead>\n",
       "    <tr style=\"text-align: right;\">\n",
       "      <th></th>\n",
       "      <th>x</th>\n",
       "      <th>y</th>\n",
       "      <th>z</th>\n",
       "      <th>u_x</th>\n",
       "      <th>u_y</th>\n",
       "      <th>u_z</th>\n",
       "      <th>p</th>\n",
       "    </tr>\n",
       "  </thead>\n",
       "  <tbody>\n",
       "    <tr>\n",
       "      <th>0</th>\n",
       "      <td>-2.182809</td>\n",
       "      <td>-0.029668</td>\n",
       "      <td>-4.177883</td>\n",
       "      <td>410.436506</td>\n",
       "      <td>0.013901</td>\n",
       "      <td>-0.054928</td>\n",
       "      <td>100030.436265</td>\n",
       "    </tr>\n",
       "    <tr>\n",
       "      <th>1</th>\n",
       "      <td>-5.697199</td>\n",
       "      <td>-1.168055</td>\n",
       "      <td>2.704167</td>\n",
       "      <td>410.437352</td>\n",
       "      <td>-0.030757</td>\n",
       "      <td>0.021365</td>\n",
       "      <td>100020.971632</td>\n",
       "    </tr>\n",
       "    <tr>\n",
       "      <th>2</th>\n",
       "      <td>-2.388080</td>\n",
       "      <td>0.489320</td>\n",
       "      <td>-4.422072</td>\n",
       "      <td>410.443844</td>\n",
       "      <td>0.028441</td>\n",
       "      <td>-0.042093</td>\n",
       "      <td>100021.156537</td>\n",
       "    </tr>\n",
       "    <tr>\n",
       "      <th>3</th>\n",
       "      <td>-6.859628</td>\n",
       "      <td>0.177311</td>\n",
       "      <td>-1.745587</td>\n",
       "      <td>410.430337</td>\n",
       "      <td>0.008494</td>\n",
       "      <td>-0.011427</td>\n",
       "      <td>100018.526121</td>\n",
       "    </tr>\n",
       "    <tr>\n",
       "      <th>4</th>\n",
       "      <td>2.668538</td>\n",
       "      <td>-0.702350</td>\n",
       "      <td>3.033114</td>\n",
       "      <td>417.831936</td>\n",
       "      <td>-0.717926</td>\n",
       "      <td>0.116151</td>\n",
       "      <td>97710.352064</td>\n",
       "    </tr>\n",
       "    <tr>\n",
       "      <th>...</th>\n",
       "      <td>...</td>\n",
       "      <td>...</td>\n",
       "      <td>...</td>\n",
       "      <td>...</td>\n",
       "      <td>...</td>\n",
       "      <td>...</td>\n",
       "      <td>...</td>\n",
       "    </tr>\n",
       "    <tr>\n",
       "      <th>8527</th>\n",
       "      <td>-4.240097</td>\n",
       "      <td>-0.190458</td>\n",
       "      <td>-0.233550</td>\n",
       "      <td>406.192347</td>\n",
       "      <td>19.419476</td>\n",
       "      <td>-7.903454</td>\n",
       "      <td>102458.496025</td>\n",
       "    </tr>\n",
       "    <tr>\n",
       "      <th>8528</th>\n",
       "      <td>-2.490715</td>\n",
       "      <td>-0.443627</td>\n",
       "      <td>-3.005777</td>\n",
       "      <td>410.190644</td>\n",
       "      <td>-0.012390</td>\n",
       "      <td>-0.552977</td>\n",
       "      <td>100225.470127</td>\n",
       "    </tr>\n",
       "    <tr>\n",
       "      <th>8529</th>\n",
       "      <td>1.819966</td>\n",
       "      <td>-0.805841</td>\n",
       "      <td>-4.031370</td>\n",
       "      <td>409.337590</td>\n",
       "      <td>-0.234673</td>\n",
       "      <td>-1.674802</td>\n",
       "      <td>100720.371138</td>\n",
       "    </tr>\n",
       "    <tr>\n",
       "      <th>8530</th>\n",
       "      <td>-1.464362</td>\n",
       "      <td>-1.064565</td>\n",
       "      <td>3.252417</td>\n",
       "      <td>410.305496</td>\n",
       "      <td>-0.110896</td>\n",
       "      <td>0.647835</td>\n",
       "      <td>100233.838109</td>\n",
       "    </tr>\n",
       "    <tr>\n",
       "      <th>8531</th>\n",
       "      <td>1.819498</td>\n",
       "      <td>-0.691653</td>\n",
       "      <td>0.839134</td>\n",
       "      <td>442.477173</td>\n",
       "      <td>16.781423</td>\n",
       "      <td>-3.749191</td>\n",
       "      <td>82108.472492</td>\n",
       "    </tr>\n",
       "  </tbody>\n",
       "</table>\n",
       "<p>8532 rows × 7 columns</p>\n",
       "</div>"
      ],
      "text/plain": [
       "             x         y         z         u_x        u_y       u_z  \\\n",
       "0    -2.182809 -0.029668 -4.177883  410.436506   0.013901 -0.054928   \n",
       "1    -5.697199 -1.168055  2.704167  410.437352  -0.030757  0.021365   \n",
       "2    -2.388080  0.489320 -4.422072  410.443844   0.028441 -0.042093   \n",
       "3    -6.859628  0.177311 -1.745587  410.430337   0.008494 -0.011427   \n",
       "4     2.668538 -0.702350  3.033114  417.831936  -0.717926  0.116151   \n",
       "...        ...       ...       ...         ...        ...       ...   \n",
       "8527 -4.240097 -0.190458 -0.233550  406.192347  19.419476 -7.903454   \n",
       "8528 -2.490715 -0.443627 -3.005777  410.190644  -0.012390 -0.552977   \n",
       "8529  1.819966 -0.805841 -4.031370  409.337590  -0.234673 -1.674802   \n",
       "8530 -1.464362 -1.064565  3.252417  410.305496  -0.110896  0.647835   \n",
       "8531  1.819498 -0.691653  0.839134  442.477173  16.781423 -3.749191   \n",
       "\n",
       "                  p  \n",
       "0     100030.436265  \n",
       "1     100020.971632  \n",
       "2     100021.156537  \n",
       "3     100018.526121  \n",
       "4      97710.352064  \n",
       "...             ...  \n",
       "8527  102458.496025  \n",
       "8528  100225.470127  \n",
       "8529  100720.371138  \n",
       "8530  100233.838109  \n",
       "8531   82108.472492  \n",
       "\n",
       "[8532 rows x 7 columns]"
      ]
     },
     "execution_count": 2,
     "metadata": {},
     "output_type": "execute_result"
    }
   ],
   "source": [
    "train_csv = pd.read_csv(train_path)\n",
    "test_csv = pd.read_csv(test_path)\n",
    "train_csv"
   ]
  },
  {
   "cell_type": "code",
   "execution_count": 3,
   "id": "1d44f3f6-9908-4871-858c-0e9517b0cb92",
   "metadata": {},
   "outputs": [
    {
     "data": {
      "text/html": [
       "<div>\n",
       "<style scoped>\n",
       "    .dataframe tbody tr th:only-of-type {\n",
       "        vertical-align: middle;\n",
       "    }\n",
       "\n",
       "    .dataframe tbody tr th {\n",
       "        vertical-align: top;\n",
       "    }\n",
       "\n",
       "    .dataframe thead th {\n",
       "        text-align: right;\n",
       "    }\n",
       "</style>\n",
       "<table border=\"1\" class=\"dataframe\">\n",
       "  <thead>\n",
       "    <tr style=\"text-align: right;\">\n",
       "      <th></th>\n",
       "      <th>x</th>\n",
       "      <th>y</th>\n",
       "      <th>z</th>\n",
       "    </tr>\n",
       "  </thead>\n",
       "  <tbody>\n",
       "    <tr>\n",
       "      <th>0</th>\n",
       "      <td>12.595389</td>\n",
       "      <td>-0.676479</td>\n",
       "      <td>9.448017</td>\n",
       "    </tr>\n",
       "    <tr>\n",
       "      <th>1</th>\n",
       "      <td>-5.115985</td>\n",
       "      <td>0.332546</td>\n",
       "      <td>-1.952567</td>\n",
       "    </tr>\n",
       "    <tr>\n",
       "      <th>2</th>\n",
       "      <td>-2.182809</td>\n",
       "      <td>-0.133158</td>\n",
       "      <td>4.463463</td>\n",
       "    </tr>\n",
       "    <tr>\n",
       "      <th>3</th>\n",
       "      <td>2.233563</td>\n",
       "      <td>-0.857583</td>\n",
       "      <td>-3.054615</td>\n",
       "    </tr>\n",
       "    <tr>\n",
       "      <th>4</th>\n",
       "      <td>-0.847552</td>\n",
       "      <td>-0.185422</td>\n",
       "      <td>-1.177141</td>\n",
       "    </tr>\n",
       "    <tr>\n",
       "      <th>...</th>\n",
       "      <td>...</td>\n",
       "      <td>...</td>\n",
       "      <td>...</td>\n",
       "    </tr>\n",
       "    <tr>\n",
       "      <th>3651</th>\n",
       "      <td>-2.695986</td>\n",
       "      <td>-0.598862</td>\n",
       "      <td>-3.103453</td>\n",
       "    </tr>\n",
       "    <tr>\n",
       "      <th>3652</th>\n",
       "      <td>12.134517</td>\n",
       "      <td>-0.883459</td>\n",
       "      <td>-7.321329</td>\n",
       "    </tr>\n",
       "    <tr>\n",
       "      <th>3653</th>\n",
       "      <td>-3.927776</td>\n",
       "      <td>-1.165944</td>\n",
       "      <td>0.220514</td>\n",
       "    </tr>\n",
       "    <tr>\n",
       "      <th>3654</th>\n",
       "      <td>1.306790</td>\n",
       "      <td>-0.909331</td>\n",
       "      <td>3.745842</td>\n",
       "    </tr>\n",
       "    <tr>\n",
       "      <th>3655</th>\n",
       "      <td>2.668540</td>\n",
       "      <td>0.436024</td>\n",
       "      <td>-3.005773</td>\n",
       "    </tr>\n",
       "  </tbody>\n",
       "</table>\n",
       "<p>3656 rows × 3 columns</p>\n",
       "</div>"
      ],
      "text/plain": [
       "              x         y         z\n",
       "0     12.595389 -0.676479  9.448017\n",
       "1     -5.115985  0.332546 -1.952567\n",
       "2     -2.182809 -0.133158  4.463463\n",
       "3      2.233563 -0.857583 -3.054615\n",
       "4     -0.847552 -0.185422 -1.177141\n",
       "...         ...       ...       ...\n",
       "3651  -2.695986 -0.598862 -3.103453\n",
       "3652  12.134517 -0.883459 -7.321329\n",
       "3653  -3.927776 -1.165944  0.220514\n",
       "3654   1.306790 -0.909331  3.745842\n",
       "3655   2.668540  0.436024 -3.005773\n",
       "\n",
       "[3656 rows x 3 columns]"
      ]
     },
     "execution_count": 3,
     "metadata": {},
     "output_type": "execute_result"
    }
   ],
   "source": [
    "test_csv"
   ]
  },
  {
   "cell_type": "code",
   "execution_count": 4,
   "id": "83502911-6990-46e5-8f1f-7b83c3a761b3",
   "metadata": {},
   "outputs": [],
   "source": [
    "feat_cols = ['x', 'y', 'z']\n",
    "target_cols = ['u_x', 'u_y', 'u_z', 'p']\n",
    "\n",
    "n_feats = len(feat_cols)\n",
    "n_targets = len(target_cols)"
   ]
  },
  {
   "cell_type": "code",
   "execution_count": 5,
   "id": "68c381f0-0f81-4160-afa7-1183931b6d3f",
   "metadata": {},
   "outputs": [
    {
     "data": {
      "text/plain": [
       "<seaborn.axisgrid.PairGrid at 0x7f6a6c2b5710>"
      ]
     },
     "execution_count": 5,
     "metadata": {},
     "output_type": "execute_result"
    },
    {
     "data": {
      "image/png": "[encoded data removed]",
      "text/plain": [
       "<Figure size 750x1000 with 12 Axes>"
      ]
     },
     "metadata": {},
     "output_type": "display_data"
    }
   ],
   "source": [
    "sns.pairplot(train_csv, x_vars=feat_cols, y_vars=target_cols)"
   ]
  },
  {
   "cell_type": "code",
   "execution_count": 6,
   "id": "93631c8e-3164-4863-97e8-3ce5835c2c3b",
   "metadata": {},
   "outputs": [
    {
     "name": "stderr",
     "output_type": "stream",
     "text": [
      "2023-11-30 18:47:39.274538: E tensorflow/compiler/xla/stream_executor/cuda/cuda_dnn.cc:9342] Unable to register cuDNN factory: Attempting to register factory for plugin cuDNN when one has already been registered\n",
      "2023-11-30 18:47:39.274563: E tensorflow/compiler/xla/stream_executor/cuda/cuda_fft.cc:609] Unable to register cuFFT factory: Attempting to register factory for plugin cuFFT when one has already been registered\n",
      "2023-11-30 18:47:39.274580: E tensorflow/compiler/xla/stream_executor/cuda/cuda_blas.cc:1518] Unable to register cuBLAS factory: Attempting to register factory for plugin cuBLAS when one has already been registered\n",
      "2023-11-30 18:47:39.279380: I tensorflow/core/platform/cpu_feature_guard.cc:182] This TensorFlow binary is optimized to use available CPU instructions in performance-critical operations.\n",
      "To enable the following instructions: AVX2 FMA, in other operations, rebuild TensorFlow with the appropriate compiler flags.\n"
     ]
    }
   ],
   "source": [
    "import tensorflow as tf"
   ]
  },
  {
   "cell_type": "code",
   "execution_count": 7,
   "id": "0fda2cb5-aa06-4dd6-8fea-b1b720d49a69",
   "metadata": {},
   "outputs": [],
   "source": [
    "def generate_train_data():\n",
    "    mean, std = train_csv[target_cols].mean(), train_csv[target_cols].std()\n",
    "    for (i, data) in train_csv.iterrows():\n",
    "        yield (data[feat_cols], (data[target_cols] - mean) / std)\n",
    "\n",
    "\n",
    "def prep_train_data():\n",
    "    return tf.data.Dataset.from_generator(\n",
    "        generate_train_data, \n",
    "        output_signature=(\n",
    "            tf.TensorSpec(shape=(n_feats), dtype=tf.float32), \n",
    "            tf.TensorSpec(shape=(n_targets), dtype=tf.float32)\n",
    "        )\n",
    "    )"
   ]
  },
  {
   "cell_type": "code",
   "execution_count": 8,
   "id": "8f18d6bd-de7b-4238-a283-d4410883f86d",
   "metadata": {},
   "outputs": [],
   "source": [
    "from tensorflow.keras import layers, losses, metrics, regularizers, Sequential\n",
    "\n",
    "def prep_linear(inputs, outputs, layer_sizes, use_dropout=False, use_regularizers=False):\n",
    "    model = Sequential()\n",
    "    model.add(layers.InputLayer(input_shape=(inputs)))\n",
    "    \n",
    "    for layer_size in layer_sizes:\n",
    "        if use_regularizers:\n",
    "            model.add(layers.Dense(layer_size, kernel_regularizer=regularizers.L2(1e-4)))\n",
    "        else:\n",
    "            model.add(layers.Dense(layer_size))\n",
    "        model.add(layers.PReLU()) # PReLU > LeakyReLU\n",
    "        if use_dropout:\n",
    "            model.add(layers.Dropout(.25))\n",
    "    \n",
    "    model.add(layers.Dense(outputs))\n",
    "    return model\n",
    "\n",
    "\n",
    "def prep_unet(inputs, outputs, layer_sizes):\n",
    "    inputs = tf.keras.Input((inputs))\n",
    "    x = inputs\n",
    "\n",
    "    skips = []\n",
    "\n",
    "    for layer_size in layer_sizes:\n",
    "        x = layers.Dense(layer_size)(x)\n",
    "        x = layers.PReLU()(x) # PReLU > LeakyReLU\n",
    "        skips.append(x)\n",
    "\n",
    "    for layer_size, skip in zip(layer_sizes[-2::-1], skips[-2::-1]):\n",
    "        x = layers.Dense(layer_size)(x)\n",
    "        x = layers.PReLU()(x) # PReLU > LeakyReLU\n",
    "        x = tf.keras.layers.concatenate([x, skip])\n",
    "\n",
    "    model = tf.keras.Model(inputs, layers.Dense(outputs)(x))\n",
    "    return model"
   ]
  },
  {
   "cell_type": "code",
   "execution_count": 9,
   "id": "13772b79-b8aa-4776-b2ec-1990bc541949",
   "metadata": {},
   "outputs": [],
   "source": [
    "def build_regression(model):\n",
    "    model.compile(\n",
    "        optimizer='adam', \n",
    "        loss=losses.MeanAbsoluteError(),\n",
    "        metrics=[metrics.RootMeanSquaredError(name='rmse')]\n",
    "    )\n",
    "\n",
    "\n",
    "def prep_simple():\n",
    "    dense_model = prep_linear(n_feats, n_targets, [32 * n_feats, 64 * n_feats, 16 * n_feats], use_dropout=True)\n",
    "    build_regression(dense_model)\n",
    "    return dense_model\n",
    "    \n",
    "\n",
    "def prep_parallel():\n",
    "    inputs = tf.keras.Input((n_feats))\n",
    "    \n",
    "    speed_model = prep_linear(n_feats, n_targets - 1, [32 * n_feats, 64 * n_feats, 16 * n_feats], use_dropout=True, use_regularizers=True)\n",
    "    pressure_model = prep_linear(n_feats, 1, [16 * n_feats, 32 * n_feats, 8 * n_feats], use_dropout=True, use_regularizers=False)\n",
    "\n",
    "    outputs = layers.concatenate([speed_model(inputs), pressure_model(inputs)])\n",
    "    parallel_model = tf.keras.Model(inputs, outputs)\n",
    "\n",
    "    build_regression(parallel_model)\n",
    "    \n",
    "    return parallel_model\n",
    "\n",
    "\n",
    "def prep_parallel_unet():\n",
    "    inputs = tf.keras.Input((n_feats))\n",
    "    \n",
    "    speed_model = prep_unet(n_feats, n_targets - 1, [8 * n_feats, 16 * n_feats, 32 * n_feats])\n",
    "    pressure_model = prep_unet(n_feats, 1, [4 * n_feats, 8 * n_feats, 16 * n_feats])\n",
    "\n",
    "    outputs = layers.concatenate([speed_model(inputs), pressure_model(inputs)])\n",
    "    parallel_model = tf.keras.Model(inputs, outputs)\n",
    "\n",
    "    build_regression(parallel_model)\n",
    "    \n",
    "    return parallel_model"
   ]
  },
  {
   "cell_type": "code",
   "execution_count": 10,
   "id": "f100675c-1579-4e8e-98fa-ea563dca035c",
   "metadata": {},
   "outputs": [
    {
     "name": "stderr",
     "output_type": "stream",
     "text": [
      "2023-11-30 18:47:40.576389: I tensorflow/compiler/xla/stream_executor/cuda/cuda_gpu_executor.cc:894] successful NUMA node read from SysFS had negative value (-1), but there must be at least one NUMA node, so returning NUMA node zero. See more at https://github.com/torvalds/linux/blob/v6.0/Documentation/ABI/testing/sysfs-bus-pci#L344-L355\n",
      "2023-11-30 18:47:40.582923: I tensorflow/compiler/xla/stream_executor/cuda/cuda_gpu_executor.cc:894] successful NUMA node read from SysFS had negative value (-1), but there must be at least one NUMA node, so returning NUMA node zero. See more at https://github.com/torvalds/linux/blob/v6.0/Documentation/ABI/testing/sysfs-bus-pci#L344-L355\n",
      "2023-11-30 18:47:40.583133: I tensorflow/compiler/xla/stream_executor/cuda/cuda_gpu_executor.cc:894] successful NUMA node read from SysFS had negative value (-1), but there must be at least one NUMA node, so returning NUMA node zero. See more at https://github.com/torvalds/linux/blob/v6.0/Documentation/ABI/testing/sysfs-bus-pci#L344-L355\n",
      "2023-11-30 18:47:40.583924: I tensorflow/compiler/xla/stream_executor/cuda/cuda_gpu_executor.cc:894] successful NUMA node read from SysFS had negative value (-1), but there must be at least one NUMA node, so returning NUMA node zero. See more at https://github.com/torvalds/linux/blob/v6.0/Documentation/ABI/testing/sysfs-bus-pci#L344-L355\n",
      "2023-11-30 18:47:40.584106: I tensorflow/compiler/xla/stream_executor/cuda/cuda_gpu_executor.cc:894] successful NUMA node read from SysFS had negative value (-1), but there must be at least one NUMA node, so returning NUMA node zero. See more at https://github.com/torvalds/linux/blob/v6.0/Documentation/ABI/testing/sysfs-bus-pci#L344-L355\n",
      "2023-11-30 18:47:40.584272: I tensorflow/compiler/xla/stream_executor/cuda/cuda_gpu_executor.cc:894] successful NUMA node read from SysFS had negative value (-1), but there must be at least one NUMA node, so returning NUMA node zero. See more at https://github.com/torvalds/linux/blob/v6.0/Documentation/ABI/testing/sysfs-bus-pci#L344-L355\n",
      "2023-11-30 18:47:40.784914: I tensorflow/compiler/xla/stream_executor/cuda/cuda_gpu_executor.cc:894] successful NUMA node read from SysFS had negative value (-1), but there must be at least one NUMA node, so returning NUMA node zero. See more at https://github.com/torvalds/linux/blob/v6.0/Documentation/ABI/testing/sysfs-bus-pci#L344-L355\n",
      "2023-11-30 18:47:40.785036: I tensorflow/compiler/xla/stream_executor/cuda/cuda_gpu_executor.cc:894] successful NUMA node read from SysFS had negative value (-1), but there must be at least one NUMA node, so returning NUMA node zero. See more at https://github.com/torvalds/linux/blob/v6.0/Documentation/ABI/testing/sysfs-bus-pci#L344-L355\n",
      "2023-11-30 18:47:40.785220: I tensorflow/compiler/xla/stream_executor/cuda/cuda_gpu_executor.cc:894] successful NUMA node read from SysFS had negative value (-1), but there must be at least one NUMA node, so returning NUMA node zero. See more at https://github.com/torvalds/linux/blob/v6.0/Documentation/ABI/testing/sysfs-bus-pci#L344-L355\n",
      "2023-11-30 18:47:40.785318: I tensorflow/core/common_runtime/gpu/gpu_device.cc:1886] Created device /job:localhost/replica:0/task:0/device:GPU:0 with 4504 MB memory:  -> device: 0, name: NVIDIA GeForce GTX 1660 Ti, pci bus id: 0000:01:00.0, compute capability: 7.5\n"
     ]
    },
    {
     "name": "stdout",
     "output_type": "stream",
     "text": [
      "Model: \"model_2\"\n",
      "__________________________________________________________________________________________________\n",
      " Layer (type)                Output Shape                 Param #   Connected to                  \n",
      "==================================================================================================\n",
      " input_1 (InputLayer)        [(None, 3)]                  0         []                            \n",
      "                                                                                                  \n",
      " model (Functional)          (None, 3)                    13371     ['input_1[0][0]']             \n",
      "                                                                                                  \n",
      " model_1 (Functional)        (None, 1)                    3469      ['input_1[0][0]']             \n",
      "                                                                                                  \n",
      " concatenate_4 (Concatenate  (None, 4)                    0         ['model[0][0]',               \n",
      " )                                                                   'model_1[0][0]']             \n",
      "                                                                                                  \n",
      "==================================================================================================\n",
      "Total params: 16840 (65.78 KB)\n",
      "Trainable params: 16840 (65.78 KB)\n",
      "Non-trainable params: 0 (0.00 Byte)\n",
      "__________________________________________________________________________________________________\n"
     ]
    }
   ],
   "source": [
    "from tensorflow.keras.utils import plot_model\n",
    "\n",
    "model = prep_parallel_unet()\n",
    "plot_model(model, '12.png', show_shapes=True, expand_nested=True)\n",
    "model.summary()"
   ]
  },
  {
   "cell_type": "code",
   "execution_count": 11,
   "id": "4b26ab6f-658c-4f0a-8ee1-f23f39f86bba",
   "metadata": {},
   "outputs": [],
   "source": [
    "BATCH_SIZE = 64\n",
    "BUFFER_SIZE = 2000\n",
    "VAL_SIZE = len(train_csv.index) // 7\n",
    "\n",
    "ds = prep_train_data()\n",
    "\n",
    "train_ds = ds.skip(VAL_SIZE).shuffle(BUFFER_SIZE).batch(BATCH_SIZE).prefetch(tf.data.AUTOTUNE)\n",
    "val_ds = ds.take(VAL_SIZE).batch(BATCH_SIZE).prefetch(tf.data.AUTOTUNE)"
   ]
  },
  {
   "cell_type": "code",
   "execution_count": 12,
   "id": "564e4666-b123-4297-8a87-8d4435e330ab",
   "metadata": {},
   "outputs": [],
   "source": [
    "from tensorflow.keras.callbacks import EarlyStopping, ModelCheckpoint, TensorBoard\n",
    "\n",
    "training_folder = os.path.join('dnn', '12')\n",
    "tensoboard_path = os.path.join(training_folder, 'logs')\n",
    "model_path = os.path.join(training_folder, 'best')\n",
    "\n",
    "model_callbacks = [\n",
    "    EarlyStopping(patience=10),\n",
    "    TensorBoard(log_dir=tensoboard_path),\n",
    "    ModelCheckpoint(model_path, monitor='val_loss', save_best_only=True, mode='min')\n",
    "]"
   ]
  },
  {
   "cell_type": "code",
   "execution_count": 13,
   "id": "8d0fca4d-17c0-4cbb-af10-2f9ea3418ae9",
   "metadata": {},
   "outputs": [
    {
     "data": {
      "text/html": [
       "\n",
       "      <iframe id=\"tensorboard-frame-bb0c8d5aa77131e7\" width=\"100%\" height=\"800\" frameborder=\"0\">\n",
       "      </iframe>\n",
       "      <script>\n",
       "        (function() {\n",
       "          const frame = document.getElementById(\"tensorboard-frame-bb0c8d5aa77131e7\");\n",
       "          const url = new URL(\"/\", window.location);\n",
       "          const port = 6006;\n",
       "          if (port) {\n",
       "            url.port = port;\n",
       "          }\n",
       "          frame.src = url;\n",
       "        })();\n",
       "      </script>\n",
       "    "
      ],
      "text/plain": [
       "<IPython.core.display.HTML object>"
      ]
     },
     "metadata": {},
     "output_type": "display_data"
    }
   ],
   "source": [
    "%load_ext tensorboard\n",
    "\n",
    "%tensorboard --logdir $tensoboard_path --host 0.0.0.0"
   ]
  },
  {
   "cell_type": "code",
   "execution_count": 20,
   "id": "d8cc995c-eff9-415f-a187-8568e5ea022c",
   "metadata": {},
   "outputs": [
    {
     "name": "stdout",
     "output_type": "stream",
     "text": [
      "Epoch 1/120\n",
      "115/115 [==============================] - 12s 53ms/step - loss: 0.1221 - rmse: 0.4114 - val_loss: 0.1217 - val_rmse: 0.3838\n",
      "Epoch 2/120\n",
      "115/115 [==============================] - 10s 62ms/step - loss: 0.1186 - rmse: 0.4043 - val_loss: 0.1260 - val_rmse: 0.3885\n",
      "Epoch 3/120\n",
      "115/115 [==============================] - 9s 54ms/step - loss: 0.1192 - rmse: 0.4056 - val_loss: 0.1260 - val_rmse: 0.3728\n",
      "Epoch 4/120\n",
      "115/115 [==============================] - 10s 63ms/step - loss: 0.1181 - rmse: 0.4033 - val_loss: 0.1251 - val_rmse: 0.3727\n",
      "Epoch 5/120\n",
      "115/115 [==============================] - 10s 62ms/step - loss: 0.1179 - rmse: 0.4011 - val_loss: 0.1188 - val_rmse: 0.3773\n",
      "Epoch 6/120\n",
      "115/115 [==============================] - 10s 58ms/step - loss: 0.1167 - rmse: 0.3996 - val_loss: 0.1202 - val_rmse: 0.3614\n",
      "Epoch 7/120\n",
      "112/115 [============================>.] - ETA: 0s - loss: 0.1161 - rmse: 0.4023INFO:tensorflow:Assets written to: dnn/12/best/assets\n"
     ]
    },
    {
     "name": "stderr",
     "output_type": "stream",
     "text": [
      "INFO:tensorflow:Assets written to: dnn/12/best/assets\n"
     ]
    },
    {
     "name": "stdout",
     "output_type": "stream",
     "text": [
      "115/115 [==============================] - 10s 70ms/step - loss: 0.1158 - rmse: 0.4000 - val_loss: 0.1154 - val_rmse: 0.3695\n",
      "Epoch 8/120\n",
      "115/115 [==============================] - 9s 60ms/step - loss: 0.1157 - rmse: 0.3937 - val_loss: 0.1241 - val_rmse: 0.3812\n",
      "Epoch 9/120\n",
      "115/115 [==============================] - 9s 50ms/step - loss: 0.1169 - rmse: 0.3995 - val_loss: 0.1180 - val_rmse: 0.3726\n",
      "Epoch 10/120\n",
      "115/115 [==============================] - 10s 60ms/step - loss: 0.1164 - rmse: 0.3964 - val_loss: 0.1266 - val_rmse: 0.3765\n",
      "Epoch 11/120\n",
      "115/115 [==============================] - 10s 60ms/step - loss: 0.1154 - rmse: 0.3940 - val_loss: 0.1221 - val_rmse: 0.3745\n",
      "Epoch 12/120\n",
      "115/115 [==============================] - 10s 60ms/step - loss: 0.1122 - rmse: 0.3916 - val_loss: 0.1163 - val_rmse: 0.3693\n",
      "Epoch 13/120\n",
      "115/115 [==============================] - 9s 55ms/step - loss: 0.1138 - rmse: 0.3898 - val_loss: 0.1201 - val_rmse: 0.3616\n",
      "Epoch 14/120\n",
      "115/115 [==============================] - 9s 58ms/step - loss: 0.1135 - rmse: 0.3891 - val_loss: 0.1155 - val_rmse: 0.3655\n",
      "Epoch 15/120\n",
      "112/115 [============================>.] - ETA: 0s - loss: 0.1120 - rmse: 0.3889INFO:tensorflow:Assets written to: dnn/12/best/assets\n"
     ]
    },
    {
     "name": "stderr",
     "output_type": "stream",
     "text": [
      "INFO:tensorflow:Assets written to: dnn/12/best/assets\n"
     ]
    },
    {
     "name": "stdout",
     "output_type": "stream",
     "text": [
      "115/115 [==============================] - 11s 72ms/step - loss: 0.1120 - rmse: 0.3882 - val_loss: 0.1145 - val_rmse: 0.3627\n",
      "Epoch 16/120\n",
      "115/115 [==============================] - 10s 64ms/step - loss: 0.1141 - rmse: 0.3890 - val_loss: 0.1174 - val_rmse: 0.3580\n",
      "Epoch 17/120\n",
      "115/115 [==============================] - 10s 61ms/step - loss: 0.1131 - rmse: 0.3894 - val_loss: 0.1246 - val_rmse: 0.3809\n",
      "Epoch 18/120\n",
      "112/115 [============================>.] - ETA: 0s - loss: 0.1116 - rmse: 0.3814INFO:tensorflow:Assets written to: dnn/12/best/assets\n"
     ]
    },
    {
     "name": "stderr",
     "output_type": "stream",
     "text": [
      "INFO:tensorflow:Assets written to: dnn/12/best/assets\n"
     ]
    },
    {
     "name": "stdout",
     "output_type": "stream",
     "text": [
      "115/115 [==============================] - 11s 74ms/step - loss: 0.1121 - rmse: 0.3863 - val_loss: 0.1132 - val_rmse: 0.3551\n",
      "Epoch 19/120\n",
      "115/115 [==============================] - 9s 54ms/step - loss: 0.1113 - rmse: 0.3861 - val_loss: 0.1204 - val_rmse: 0.3740\n",
      "Epoch 20/120\n",
      "115/115 [==============================] - 9s 60ms/step - loss: 0.1123 - rmse: 0.3852 - val_loss: 0.1150 - val_rmse: 0.3569\n",
      "Epoch 21/120\n",
      "115/115 [==============================] - 10s 57ms/step - loss: 0.1136 - rmse: 0.3883 - val_loss: 0.1150 - val_rmse: 0.3707\n",
      "Epoch 22/120\n",
      "115/115 [==============================] - ETA: 0s - loss: 0.1101 - rmse: 0.3834INFO:tensorflow:Assets written to: dnn/12/best/assets\n"
     ]
    },
    {
     "name": "stderr",
     "output_type": "stream",
     "text": [
      "INFO:tensorflow:Assets written to: dnn/12/best/assets\n"
     ]
    },
    {
     "name": "stdout",
     "output_type": "stream",
     "text": [
      "115/115 [==============================] - 11s 72ms/step - loss: 0.1101 - rmse: 0.3834 - val_loss: 0.1108 - val_rmse: 0.3554\n",
      "Epoch 23/120\n",
      "115/115 [==============================] - 9s 61ms/step - loss: 0.1125 - rmse: 0.3860 - val_loss: 0.1130 - val_rmse: 0.3560\n",
      "Epoch 24/120\n",
      "115/115 [==============================] - 9s 57ms/step - loss: 0.1100 - rmse: 0.3745 - val_loss: 0.1198 - val_rmse: 0.3724\n",
      "Epoch 25/120\n",
      "115/115 [==============================] - 9s 59ms/step - loss: 0.1104 - rmse: 0.3821 - val_loss: 0.1165 - val_rmse: 0.3606\n",
      "Epoch 26/120\n",
      "115/115 [==============================] - 10s 61ms/step - loss: 0.1091 - rmse: 0.3796 - val_loss: 0.1168 - val_rmse: 0.3711\n",
      "Epoch 27/120\n",
      "115/115 [==============================] - 9s 57ms/step - loss: 0.1088 - rmse: 0.3805 - val_loss: 0.1183 - val_rmse: 0.3741\n",
      "Epoch 28/120\n",
      "115/115 [==============================] - 9s 57ms/step - loss: 0.1100 - rmse: 0.3802 - val_loss: 0.1150 - val_rmse: 0.3452\n",
      "Epoch 29/120\n",
      "115/115 [==============================] - 9s 56ms/step - loss: 0.1120 - rmse: 0.3813 - val_loss: 0.1241 - val_rmse: 0.3736\n",
      "Epoch 30/120\n",
      "111/115 [===========================>..] - ETA: 0s - loss: 0.1093 - rmse: 0.3807INFO:tensorflow:Assets written to: dnn/12/best/assets\n"
     ]
    },
    {
     "name": "stderr",
     "output_type": "stream",
     "text": [
      "INFO:tensorflow:Assets written to: dnn/12/best/assets\n"
     ]
    },
    {
     "name": "stdout",
     "output_type": "stream",
     "text": [
      "115/115 [==============================] - 12s 77ms/step - loss: 0.1086 - rmse: 0.3770 - val_loss: 0.1105 - val_rmse: 0.3557\n",
      "Epoch 31/120\n",
      "115/115 [==============================] - 9s 61ms/step - loss: 0.1081 - rmse: 0.3755 - val_loss: 0.1159 - val_rmse: 0.3543\n",
      "Epoch 32/120\n",
      "115/115 [==============================] - 10s 61ms/step - loss: 0.1070 - rmse: 0.3724 - val_loss: 0.1141 - val_rmse: 0.3568\n",
      "Epoch 33/120\n",
      "115/115 [==============================] - 10s 63ms/step - loss: 0.1074 - rmse: 0.3730 - val_loss: 0.1112 - val_rmse: 0.3491\n",
      "Epoch 34/120\n",
      "115/115 [==============================] - 9s 58ms/step - loss: 0.1089 - rmse: 0.3744 - val_loss: 0.1154 - val_rmse: 0.3595\n",
      "Epoch 35/120\n",
      "115/115 [==============================] - 10s 65ms/step - loss: 0.1083 - rmse: 0.3766 - val_loss: 0.1132 - val_rmse: 0.3602\n",
      "Epoch 36/120\n",
      "115/115 [==============================] - 9s 56ms/step - loss: 0.1061 - rmse: 0.3698 - val_loss: 0.1128 - val_rmse: 0.3664\n",
      "Epoch 37/120\n",
      "115/115 [==============================] - 9s 56ms/step - loss: 0.1062 - rmse: 0.3716 - val_loss: 0.1174 - val_rmse: 0.3622\n",
      "Epoch 38/120\n",
      "115/115 [==============================] - 9s 55ms/step - loss: 0.1066 - rmse: 0.3705 - val_loss: 0.1171 - val_rmse: 0.3735\n",
      "Epoch 39/120\n",
      "115/115 [==============================] - 10s 68ms/step - loss: 0.1065 - rmse: 0.3726 - val_loss: 0.1122 - val_rmse: 0.3452\n",
      "Epoch 40/120\n",
      "114/115 [============================>.] - ETA: 0s - loss: 0.1071 - rmse: 0.3697INFO:tensorflow:Assets written to: dnn/12/best/assets\n"
     ]
    },
    {
     "name": "stderr",
     "output_type": "stream",
     "text": [
      "INFO:tensorflow:Assets written to: dnn/12/best/assets\n"
     ]
    },
    {
     "name": "stdout",
     "output_type": "stream",
     "text": [
      "115/115 [==============================] - 11s 73ms/step - loss: 0.1069 - rmse: 0.3693 - val_loss: 0.1093 - val_rmse: 0.3438\n",
      "Epoch 41/120\n",
      "115/115 [==============================] - 9s 56ms/step - loss: 0.1044 - rmse: 0.3641 - val_loss: 0.1146 - val_rmse: 0.3482\n",
      "Epoch 42/120\n",
      "115/115 [==============================] - 9s 55ms/step - loss: 0.1048 - rmse: 0.3662 - val_loss: 0.1099 - val_rmse: 0.3386\n",
      "Epoch 43/120\n",
      "115/115 [==============================] - 10s 56ms/step - loss: 0.1055 - rmse: 0.3690 - val_loss: 0.1123 - val_rmse: 0.3553\n",
      "Epoch 44/120\n",
      "113/115 [============================>.] - ETA: 0s - loss: 0.1046 - rmse: 0.3690INFO:tensorflow:Assets written to: dnn/12/best/assets\n"
     ]
    },
    {
     "name": "stderr",
     "output_type": "stream",
     "text": [
      "INFO:tensorflow:Assets written to: dnn/12/best/assets\n"
     ]
    },
    {
     "name": "stdout",
     "output_type": "stream",
     "text": [
      "115/115 [==============================] - 11s 78ms/step - loss: 0.1046 - rmse: 0.3687 - val_loss: 0.1088 - val_rmse: 0.3433\n",
      "Epoch 45/120\n",
      "115/115 [==============================] - 9s 55ms/step - loss: 0.1049 - rmse: 0.3700 - val_loss: 0.1088 - val_rmse: 0.3508\n",
      "Epoch 46/120\n",
      "113/115 [============================>.] - ETA: 0s - loss: 0.1044 - rmse: 0.3611INFO:tensorflow:Assets written to: dnn/12/best/assets\n"
     ]
    },
    {
     "name": "stderr",
     "output_type": "stream",
     "text": [
      "INFO:tensorflow:Assets written to: dnn/12/best/assets\n"
     ]
    },
    {
     "name": "stdout",
     "output_type": "stream",
     "text": [
      "115/115 [==============================] - 11s 71ms/step - loss: 0.1048 - rmse: 0.3679 - val_loss: 0.1087 - val_rmse: 0.3446\n",
      "Epoch 47/120\n",
      "115/115 [==============================] - 10s 63ms/step - loss: 0.1033 - rmse: 0.3593 - val_loss: 0.1128 - val_rmse: 0.3625\n",
      "Epoch 48/120\n",
      "115/115 [==============================] - 9s 54ms/step - loss: 0.1040 - rmse: 0.3606 - val_loss: 0.1199 - val_rmse: 0.3606\n",
      "Epoch 49/120\n",
      "115/115 [==============================] - 10s 63ms/step - loss: 0.1037 - rmse: 0.3586 - val_loss: 0.1194 - val_rmse: 0.3805\n",
      "Epoch 50/120\n",
      "115/115 [==============================] - 10s 62ms/step - loss: 0.1052 - rmse: 0.3644 - val_loss: 0.1129 - val_rmse: 0.3621\n",
      "Epoch 51/120\n",
      "113/115 [============================>.] - ETA: 0s - loss: 0.1026 - rmse: 0.3616INFO:tensorflow:Assets written to: dnn/12/best/assets\n"
     ]
    },
    {
     "name": "stderr",
     "output_type": "stream",
     "text": [
      "INFO:tensorflow:Assets written to: dnn/12/best/assets\n"
     ]
    },
    {
     "name": "stdout",
     "output_type": "stream",
     "text": [
      "115/115 [==============================] - 11s 72ms/step - loss: 0.1027 - rmse: 0.3603 - val_loss: 0.1073 - val_rmse: 0.3458\n",
      "Epoch 52/120\n",
      "115/115 [==============================] - 10s 63ms/step - loss: 0.1025 - rmse: 0.3614 - val_loss: 0.1144 - val_rmse: 0.3585\n",
      "Epoch 53/120\n",
      "115/115 [==============================] - 9s 59ms/step - loss: 0.1025 - rmse: 0.3586 - val_loss: 0.1128 - val_rmse: 0.3375\n",
      "Epoch 54/120\n",
      "115/115 [==============================] - ETA: 0s - loss: 0.1027 - rmse: 0.3619INFO:tensorflow:Assets written to: dnn/12/best/assets\n"
     ]
    },
    {
     "name": "stderr",
     "output_type": "stream",
     "text": [
      "INFO:tensorflow:Assets written to: dnn/12/best/assets\n"
     ]
    },
    {
     "name": "stdout",
     "output_type": "stream",
     "text": [
      "115/115 [==============================] - 12s 81ms/step - loss: 0.1027 - rmse: 0.3619 - val_loss: 0.1071 - val_rmse: 0.3397\n",
      "Epoch 55/120\n",
      "115/115 [==============================] - ETA: 0s - loss: 0.0996 - rmse: 0.3571INFO:tensorflow:Assets written to: dnn/12/best/assets\n"
     ]
    },
    {
     "name": "stderr",
     "output_type": "stream",
     "text": [
      "INFO:tensorflow:Assets written to: dnn/12/best/assets\n"
     ]
    },
    {
     "name": "stdout",
     "output_type": "stream",
     "text": [
      "115/115 [==============================] - 10s 67ms/step - loss: 0.0996 - rmse: 0.3571 - val_loss: 0.1066 - val_rmse: 0.3517\n",
      "Epoch 56/120\n",
      "115/115 [==============================] - 9s 59ms/step - loss: 0.1024 - rmse: 0.3601 - val_loss: 0.1083 - val_rmse: 0.3495\n",
      "Epoch 57/120\n",
      "115/115 [==============================] - 13s 86ms/step - loss: 0.1018 - rmse: 0.3594 - val_loss: 0.1082 - val_rmse: 0.3488\n",
      "Epoch 58/120\n",
      "110/115 [===========================>..] - ETA: 0s - loss: 0.1001 - rmse: 0.3569INFO:tensorflow:Assets written to: dnn/12/best/assets\n"
     ]
    },
    {
     "name": "stderr",
     "output_type": "stream",
     "text": [
      "INFO:tensorflow:Assets written to: dnn/12/best/assets\n"
     ]
    },
    {
     "name": "stdout",
     "output_type": "stream",
     "text": [
      "115/115 [==============================] - 50s 392ms/step - loss: 0.1003 - rmse: 0.3572 - val_loss: 0.1059 - val_rmse: 0.3333\n",
      "Epoch 59/120\n",
      "112/115 [============================>.] - ETA: 0s - loss: 0.1000 - rmse: 0.3591INFO:tensorflow:Assets written to: dnn/12/best/assets\n"
     ]
    },
    {
     "name": "stderr",
     "output_type": "stream",
     "text": [
      "INFO:tensorflow:Assets written to: dnn/12/best/assets\n"
     ]
    },
    {
     "name": "stdout",
     "output_type": "stream",
     "text": [
      "115/115 [==============================] - 22s 144ms/step - loss: 0.0998 - rmse: 0.3570 - val_loss: 0.1049 - val_rmse: 0.3448\n",
      "Epoch 60/120\n",
      "115/115 [==============================] - 12s 69ms/step - loss: 0.1028 - rmse: 0.3598 - val_loss: 0.1083 - val_rmse: 0.3403\n",
      "Epoch 61/120\n",
      "115/115 [==============================] - 10s 58ms/step - loss: 0.1037 - rmse: 0.3577 - val_loss: 0.1084 - val_rmse: 0.3483\n",
      "Epoch 62/120\n",
      "108/115 [===========================>..] - ETA: 0s - loss: 0.0991 - rmse: 0.3556INFO:tensorflow:Assets written to: dnn/12/best/assets\n"
     ]
    },
    {
     "name": "stderr",
     "output_type": "stream",
     "text": [
      "INFO:tensorflow:Assets written to: dnn/12/best/assets\n"
     ]
    },
    {
     "name": "stdout",
     "output_type": "stream",
     "text": [
      "115/115 [==============================] - 11s 74ms/step - loss: 0.0993 - rmse: 0.3520 - val_loss: 0.1041 - val_rmse: 0.3255\n",
      "Epoch 63/120\n",
      "115/115 [==============================] - 10s 63ms/step - loss: 0.0996 - rmse: 0.3526 - val_loss: 0.1087 - val_rmse: 0.3379\n",
      "Epoch 64/120\n",
      "115/115 [==============================] - 9s 57ms/step - loss: 0.0982 - rmse: 0.3475 - val_loss: 0.1067 - val_rmse: 0.3569\n",
      "Epoch 65/120\n",
      "115/115 [==============================] - 11s 64ms/step - loss: 0.0994 - rmse: 0.3533 - val_loss: 0.1076 - val_rmse: 0.3376\n",
      "Epoch 66/120\n",
      "115/115 [==============================] - ETA: 0s - loss: 0.0984 - rmse: 0.3490INFO:tensorflow:Assets written to: dnn/12/best/assets\n"
     ]
    },
    {
     "name": "stderr",
     "output_type": "stream",
     "text": [
      "INFO:tensorflow:Assets written to: dnn/12/best/assets\n"
     ]
    },
    {
     "name": "stdout",
     "output_type": "stream",
     "text": [
      "115/115 [==============================] - 33s 263ms/step - loss: 0.0984 - rmse: 0.3490 - val_loss: 0.1031 - val_rmse: 0.3398\n",
      "Epoch 67/120\n",
      "115/115 [==============================] - 9s 52ms/step - loss: 0.0992 - rmse: 0.3535 - val_loss: 0.1084 - val_rmse: 0.3502\n",
      "Epoch 68/120\n",
      "115/115 [==============================] - 10s 57ms/step - loss: 0.1002 - rmse: 0.3514 - val_loss: 0.1079 - val_rmse: 0.3318\n",
      "Epoch 69/120\n",
      "115/115 [==============================] - 9s 52ms/step - loss: 0.0981 - rmse: 0.3484 - val_loss: 0.1077 - val_rmse: 0.3387\n",
      "Epoch 70/120\n",
      "115/115 [==============================] - 8s 48ms/step - loss: 0.0992 - rmse: 0.3495 - val_loss: 0.1041 - val_rmse: 0.3493\n",
      "Epoch 71/120\n",
      "115/115 [==============================] - 8s 49ms/step - loss: 0.0981 - rmse: 0.3492 - val_loss: 0.1046 - val_rmse: 0.3457\n",
      "Epoch 72/120\n",
      "115/115 [==============================] - 8s 48ms/step - loss: 0.0984 - rmse: 0.3506 - val_loss: 0.1032 - val_rmse: 0.3474\n",
      "Epoch 73/120\n",
      "115/115 [==============================] - 8s 49ms/step - loss: 0.0988 - rmse: 0.3473 - val_loss: 0.1041 - val_rmse: 0.3399\n",
      "Epoch 74/120\n",
      "115/115 [==============================] - ETA: 0s - loss: 0.0980 - rmse: 0.3457INFO:tensorflow:Assets written to: dnn/12/best/assets\n"
     ]
    },
    {
     "name": "stderr",
     "output_type": "stream",
     "text": [
      "INFO:tensorflow:Assets written to: dnn/12/best/assets\n"
     ]
    },
    {
     "name": "stdout",
     "output_type": "stream",
     "text": [
      "115/115 [==============================] - 10s 66ms/step - loss: 0.0980 - rmse: 0.3457 - val_loss: 0.1005 - val_rmse: 0.3363\n",
      "Epoch 75/120\n",
      "115/115 [==============================] - 8s 49ms/step - loss: 0.0972 - rmse: 0.3449 - val_loss: 0.1036 - val_rmse: 0.3241\n",
      "Epoch 76/120\n",
      "115/115 [==============================] - 8s 49ms/step - loss: 0.0986 - rmse: 0.3469 - val_loss: 0.1072 - val_rmse: 0.3473\n",
      "Epoch 77/120\n",
      "115/115 [==============================] - 8s 49ms/step - loss: 0.1002 - rmse: 0.3490 - val_loss: 0.1086 - val_rmse: 0.3425\n",
      "Epoch 78/120\n",
      "115/115 [==============================] - 9s 56ms/step - loss: 0.0973 - rmse: 0.3467 - val_loss: 0.1087 - val_rmse: 0.3412\n",
      "Epoch 79/120\n",
      "115/115 [==============================] - 10s 59ms/step - loss: 0.0976 - rmse: 0.3437 - val_loss: 0.1050 - val_rmse: 0.3389\n",
      "Epoch 80/120\n",
      "114/115 [============================>.] - ETA: 0s - loss: 0.0970 - rmse: 0.3455INFO:tensorflow:Assets written to: dnn/12/best/assets\n"
     ]
    },
    {
     "name": "stderr",
     "output_type": "stream",
     "text": [
      "INFO:tensorflow:Assets written to: dnn/12/best/assets\n"
     ]
    },
    {
     "name": "stdout",
     "output_type": "stream",
     "text": [
      "115/115 [==============================] - 12s 70ms/step - loss: 0.0970 - rmse: 0.3452 - val_loss: 0.0993 - val_rmse: 0.3245\n",
      "Epoch 81/120\n",
      "115/115 [==============================] - 10s 61ms/step - loss: 0.0970 - rmse: 0.3389 - val_loss: 0.1107 - val_rmse: 0.3333\n",
      "Epoch 82/120\n",
      "115/115 [==============================] - 10s 57ms/step - loss: 0.0960 - rmse: 0.3431 - val_loss: 0.1116 - val_rmse: 0.3571\n",
      "Epoch 83/120\n",
      "115/115 [==============================] - 10s 63ms/step - loss: 0.0978 - rmse: 0.3451 - val_loss: 0.1056 - val_rmse: 0.3321\n",
      "Epoch 84/120\n",
      "115/115 [==============================] - 10s 59ms/step - loss: 0.0965 - rmse: 0.3427 - val_loss: 0.1005 - val_rmse: 0.3314\n",
      "Epoch 85/120\n",
      "115/115 [==============================] - 9s 58ms/step - loss: 0.0964 - rmse: 0.3387 - val_loss: 0.1023 - val_rmse: 0.3301\n",
      "Epoch 86/120\n",
      "115/115 [==============================] - 9s 60ms/step - loss: 0.0967 - rmse: 0.3439 - val_loss: 0.1031 - val_rmse: 0.3374\n",
      "Epoch 87/120\n",
      "115/115 [==============================] - 8s 45ms/step - loss: 0.0959 - rmse: 0.3395 - val_loss: 0.1080 - val_rmse: 0.3645\n",
      "Epoch 88/120\n",
      "115/115 [==============================] - 9s 53ms/step - loss: 0.0970 - rmse: 0.3504 - val_loss: 0.1106 - val_rmse: 0.3341\n",
      "Epoch 89/120\n",
      "115/115 [==============================] - 7s 43ms/step - loss: 0.0972 - rmse: 0.3407 - val_loss: 0.1027 - val_rmse: 0.3270\n",
      "Epoch 90/120\n",
      "115/115 [==============================] - 11s 61ms/step - loss: 0.0948 - rmse: 0.3407 - val_loss: 0.1041 - val_rmse: 0.3409\n"
     ]
    },
    {
     "data": {
      "text/plain": [
       "<keras.src.callbacks.History at 0x7f6a6f49f550>"
      ]
     },
     "execution_count": 20,
     "metadata": {},
     "output_type": "execute_result"
    }
   ],
   "source": [
    "model.fit(train_ds, validation_data=val_ds, epochs=120, callbacks=model_callbacks)"
   ]
  },
  {
   "cell_type": "code",
   "execution_count": 21,
   "id": "68103b41-98fb-46f6-baa1-28d7a84fbc07",
   "metadata": {},
   "outputs": [],
   "source": [
    "model = tf.keras.models.load_model(model_path)"
   ]
  },
  {
   "cell_type": "code",
   "execution_count": 22,
   "id": "2902c365-5ac8-45d8-8b73-048017ea249a",
   "metadata": {},
   "outputs": [
    {
     "name": "stdout",
     "output_type": "stream",
     "text": [
      "134/134 [==============================] - 9s 67ms/step - loss: 0.0929 - rmse: 0.3339\n"
     ]
    },
    {
     "name": "stderr",
     "output_type": "stream",
     "text": [
      "2023-11-30 20:23:15.560466: I tensorflow/core/framework/local_rendezvous.cc:421] Local rendezvous recv item cancelled. Key hash: 7325575383054177857\n",
      "2023-11-30 20:23:15.560502: I tensorflow/core/framework/local_rendezvous.cc:421] Local rendezvous recv item cancelled. Key hash: 7524731584003766510\n",
      "2023-11-30 20:23:15.560510: I tensorflow/core/framework/local_rendezvous.cc:421] Local rendezvous recv item cancelled. Key hash: 10770088465028237548\n"
     ]
    }
   ],
   "source": [
    "# Evaluate on full training data\n",
    "train_metrics = model.evaluate(ds.batch(BATCH_SIZE).prefetch(tf.data.AUTOTUNE))"
   ]
  },
  {
   "cell_type": "code",
   "execution_count": 23,
   "id": "a9c62cc1-d1e3-4f6b-ad6a-99619eb948ca",
   "metadata": {},
   "outputs": [],
   "source": [
    "def generate_test_data():\n",
    "    for (i, data) in test_csv.iterrows():\n",
    "        yield data[feat_cols]\n",
    "\n",
    "\n",
    "def prep_test_data():\n",
    "    return tf.data.Dataset.from_generator(\n",
    "        generate_test_data, \n",
    "        output_signature=tf.TensorSpec(shape=(n_feats), dtype=tf.float32)\n",
    "    )"
   ]
  },
  {
   "cell_type": "code",
   "execution_count": 24,
   "id": "75cf880f-21ce-42cc-bc9e-c3ed6fb31680",
   "metadata": {},
   "outputs": [
    {
     "name": "stdout",
     "output_type": "stream",
     "text": [
      "58/58 [==============================] - 2s 33ms/step\n"
     ]
    },
    {
     "name": "stderr",
     "output_type": "stream",
     "text": [
      "2023-11-30 20:23:17.691733: I tensorflow/core/framework/local_rendezvous.cc:421] Local rendezvous recv item cancelled. Key hash: 8701529722525181352\n"
     ]
    },
    {
     "data": {
      "text/html": [
       "<div>\n",
       "<style scoped>\n",
       "    .dataframe tbody tr th:only-of-type {\n",
       "        vertical-align: middle;\n",
       "    }\n",
       "\n",
       "    .dataframe tbody tr th {\n",
       "        vertical-align: top;\n",
       "    }\n",
       "\n",
       "    .dataframe thead th {\n",
       "        text-align: right;\n",
       "    }\n",
       "</style>\n",
       "<table border=\"1\" class=\"dataframe\">\n",
       "  <thead>\n",
       "    <tr style=\"text-align: right;\">\n",
       "      <th></th>\n",
       "      <th>u_x</th>\n",
       "      <th>u_y</th>\n",
       "      <th>u_z</th>\n",
       "      <th>p</th>\n",
       "    </tr>\n",
       "  </thead>\n",
       "  <tbody>\n",
       "    <tr>\n",
       "      <th>0</th>\n",
       "      <td>410.411516</td>\n",
       "      <td>-0.151038</td>\n",
       "      <td>0.297176</td>\n",
       "      <td>100075.617711</td>\n",
       "    </tr>\n",
       "    <tr>\n",
       "      <th>1</th>\n",
       "      <td>410.362261</td>\n",
       "      <td>-0.060990</td>\n",
       "      <td>-0.028394</td>\n",
       "      <td>100050.418298</td>\n",
       "    </tr>\n",
       "    <tr>\n",
       "      <th>2</th>\n",
       "      <td>410.226893</td>\n",
       "      <td>-0.021849</td>\n",
       "      <td>-0.044029</td>\n",
       "      <td>100038.225306</td>\n",
       "    </tr>\n",
       "    <tr>\n",
       "      <th>3</th>\n",
       "      <td>412.483023</td>\n",
       "      <td>-3.231788</td>\n",
       "      <td>-6.239308</td>\n",
       "      <td>100466.766147</td>\n",
       "    </tr>\n",
       "    <tr>\n",
       "      <th>4</th>\n",
       "      <td>409.532989</td>\n",
       "      <td>2.354951</td>\n",
       "      <td>-4.425670</td>\n",
       "      <td>100852.765924</td>\n",
       "    </tr>\n",
       "    <tr>\n",
       "      <th>...</th>\n",
       "      <td>...</td>\n",
       "      <td>...</td>\n",
       "      <td>...</td>\n",
       "      <td>...</td>\n",
       "    </tr>\n",
       "    <tr>\n",
       "      <th>3651</th>\n",
       "      <td>410.358368</td>\n",
       "      <td>-0.122843</td>\n",
       "      <td>-0.188028</td>\n",
       "      <td>100051.215527</td>\n",
       "    </tr>\n",
       "    <tr>\n",
       "      <th>3652</th>\n",
       "      <td>410.226395</td>\n",
       "      <td>-0.237976</td>\n",
       "      <td>0.130129</td>\n",
       "      <td>99836.034335</td>\n",
       "    </tr>\n",
       "    <tr>\n",
       "      <th>3653</th>\n",
       "      <td>404.916540</td>\n",
       "      <td>-10.519151</td>\n",
       "      <td>2.924110</td>\n",
       "      <td>103952.706793</td>\n",
       "    </tr>\n",
       "    <tr>\n",
       "      <th>3654</th>\n",
       "      <td>410.250776</td>\n",
       "      <td>-0.113626</td>\n",
       "      <td>0.764731</td>\n",
       "      <td>100309.644926</td>\n",
       "    </tr>\n",
       "    <tr>\n",
       "      <th>3655</th>\n",
       "      <td>416.434839</td>\n",
       "      <td>1.522845</td>\n",
       "      <td>-3.776467</td>\n",
       "      <td>99535.992997</td>\n",
       "    </tr>\n",
       "  </tbody>\n",
       "</table>\n",
       "<p>3656 rows × 4 columns</p>\n",
       "</div>"
      ],
      "text/plain": [
       "             u_x        u_y       u_z              p\n",
       "0     410.411516  -0.151038  0.297176  100075.617711\n",
       "1     410.362261  -0.060990 -0.028394  100050.418298\n",
       "2     410.226893  -0.021849 -0.044029  100038.225306\n",
       "3     412.483023  -3.231788 -6.239308  100466.766147\n",
       "4     409.532989   2.354951 -4.425670  100852.765924\n",
       "...          ...        ...       ...            ...\n",
       "3651  410.358368  -0.122843 -0.188028  100051.215527\n",
       "3652  410.226395  -0.237976  0.130129   99836.034335\n",
       "3653  404.916540 -10.519151  2.924110  103952.706793\n",
       "3654  410.250776  -0.113626  0.764731  100309.644926\n",
       "3655  416.434839   1.522845 -3.776467   99535.992997\n",
       "\n",
       "[3656 rows x 4 columns]"
      ]
     },
     "execution_count": 24,
     "metadata": {},
     "output_type": "execute_result"
    }
   ],
   "source": [
    "test_ds = prep_test_data().batch(BATCH_SIZE).prefetch(tf.data.AUTOTUNE)\n",
    "test_outputs = model.predict(test_ds)\n",
    "\n",
    "mean, std = train_csv[target_cols].mean(), train_csv[target_cols].std()\n",
    "\n",
    "submission_df = pd.DataFrame(test_outputs, columns=target_cols)\n",
    "submission_df = submission_df * std + mean\n",
    "submission_df"
   ]
  },
  {
   "cell_type": "code",
   "execution_count": 25,
   "id": "a290921c-0f90-4078-b696-518a8ee8fa05",
   "metadata": {},
   "outputs": [],
   "source": [
    "submission_df.to_csv(submission_path, index=False)"
   ]
  },
  {
   "cell_type": "markdown",
   "id": "735204ce-4233-4c2f-8df6-4ebffeaa5380",
   "metadata": {},
   "source": [
    "## Winning model\n",
    "\n",
    "10/10 Achieved with model trained on MAE loss for ~180 epochs with this DNN architecture:\n",
    "![DNN keras plot](12.png)"
   ]
  }
 ],
 "metadata": {
  "kernelspec": {
   "display_name": "Python 3 (ipykernel)",
   "language": "python",
   "name": "python3"
  },
  "language_info": {
   "codemirror_mode": {
    "name": "ipython",
    "version": 3
   },
   "file_extension": ".py",
   "mimetype": "text/x-python",
   "name": "python",
   "nbconvert_exporter": "python",
   "pygments_lexer": "ipython3",
   "version": "3.11.0rc1"
  }
 },
 "nbformat": 4,
 "nbformat_minor": 5
}
