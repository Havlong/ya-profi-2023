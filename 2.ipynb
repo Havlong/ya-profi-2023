{
 "cells": [
  {
   "cell_type": "markdown",
   "id": "0cf067cb-040a-4db5-9554-7e73631ebfdd",
   "metadata": {},
   "source": [
    "# Задание 2\n",
    "\n",
    "Лиза живёт на первом этаже 12-этажного дома. Мама испекла печенье и попросила Лизу разнести его соседям. В доме есть лифт, на котором Лиза катается с этажа на этаж. Ей нужно посетить все этажи ровно по одному разу и вернуться обратно на первый этаж. Поскольку Лиза очень любит лифты, она хочет провести в лифте максимальное возможное время (время путешествия с этажа `x` на этаж `y` положим равным `∣x−y∣`). Сколькими способами Лиза может построить свой маршрут так, чтобы он занял максимальное возможное время?"
   ]
  },
  {
   "cell_type": "code",
   "execution_count": 1,
   "id": "7af7a751-bae1-4a13-84cb-84312860e1ad",
   "metadata": {},
   "outputs": [],
   "source": [
    "mx = 0\n",
    "mxcnt = 0\n",
    "mxpath = []\n",
    "path = [2,3,4,5,6,7,8,9,10,11,12]"
   ]
  },
  {
   "cell_type": "code",
   "execution_count": 2,
   "id": "22c0fad2-8a99-47c5-91b7-0e454a2b5135",
   "metadata": {},
   "outputs": [],
   "source": [
    "def cost(route):\n",
    "    result = route[0] - 1 + route[-1] - 1\n",
    "    for i in range(len(route) - 1):\n",
    "        result += abs(route[i] - route[i + 1])\n",
    "    return result"
   ]
  },
  {
   "cell_type": "code",
   "execution_count": 3,
   "id": "6d229078-2ad3-497b-9d4b-0c9698297fac",
   "metadata": {},
   "outputs": [
    {
     "data": {
      "text/plain": [
       "(72, 86400, (7, 2, 8, 3, 9, 4, 10, 5, 11, 6, 12))"
      ]
     },
     "execution_count": 3,
     "metadata": {},
     "output_type": "execute_result"
    }
   ],
   "source": [
    "from itertools import permutations\n",
    "\n",
    "for permutation in permutations(path):\n",
    "    path_cost = cost(permutation)\n",
    "    if path_cost > mx:\n",
    "        mx = path_cost\n",
    "        mxcnt = 1\n",
    "        mxpath = permutation\n",
    "    elif path_cost == mx:\n",
    "        mxcnt += 1\n",
    "mx, mxcnt, mxpath"
   ]
  }
 ],
 "metadata": {
  "kernelspec": {
   "display_name": "Python 3 (ipykernel)",
   "language": "python",
   "name": "python3"
  },
  "language_info": {
   "codemirror_mode": {
    "name": "ipython",
    "version": 3
   },
   "file_extension": ".py",
   "mimetype": "text/x-python",
   "name": "python",
   "nbconvert_exporter": "python",
   "pygments_lexer": "ipython3",
   "version": "3.11.0rc1"
  }
 },
 "nbformat": 4,
 "nbformat_minor": 5
}
