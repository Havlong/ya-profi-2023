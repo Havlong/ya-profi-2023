{
 "cells": [
  {
   "cell_type": "markdown",
   "id": "bc08d9bf-4f1c-4d92-ba7b-0106a588abd4",
   "metadata": {},
   "source": [
    "# Задание 3\n",
    "Несимметричный восьмигранник со значениями от 1 до 8 на его гранях кидают до тех пор, пока не выпадет число 5. Вероятность выпадения каждой грани пропорциональна числу на этой грани. Найдите вероятность того, что кубик бросят не менее 3 раз."
   ]
  },
  {
   "cell_type": "markdown",
   "id": "7ea87361-6eb8-4e77-b2c6-7f8a2c542cbc",
   "metadata": {},
   "source": [
    "1 2 2 3 3 3 4 4 4 4 5 5 5 5 5 6 6 6 6 6 6 7 7 7 7 7 7 7 8 8 8 8 8 8 8 8"
   ]
  },
  {
   "cell_type": "code",
   "execution_count": 1,
   "id": "6e0298f3-c113-4f9f-8ab3-4e6831c883e6",
   "metadata": {},
   "outputs": [
    {
     "data": {
      "text/plain": [
       "36"
      ]
     },
     "execution_count": 1,
     "metadata": {},
     "output_type": "execute_result"
    }
   ],
   "source": [
    "total = sum(range(1, 9))\n",
    "fives = 5\n",
    "total"
   ]
  },
  {
   "cell_type": "code",
   "execution_count": 2,
   "id": "19e42400-6373-4e85-941b-d10b6503f3e1",
   "metadata": {},
   "outputs": [
    {
     "name": "stdout",
     "output_type": "stream",
     "text": [
      "961/1296\n"
     ]
    }
   ],
   "source": [
    "hi = (total - fives) ** 2\n",
    "lo = total ** 2\n",
    "print(f'{hi}/{lo}')"
   ]
  },
  {
   "cell_type": "code",
   "execution_count": 3,
   "id": "1d44312a-4d7c-4365-8c0a-d71eece7bfc5",
   "metadata": {},
   "outputs": [
    {
     "name": "stdout",
     "output_type": "stream",
     "text": [
      "961/1296\n"
     ]
    }
   ],
   "source": [
    "from math import gcd\n",
    "c = gcd(hi, lo)\n",
    "hi //= c\n",
    "lo //= c\n",
    "print(f'{hi}/{lo}')"
   ]
  },
  {
   "cell_type": "code",
   "execution_count": 4,
   "id": "fd0573c0-1f75-4db5-93b3-a0511e9fc7b5",
   "metadata": {},
   "outputs": [
    {
     "name": "stdout",
     "output_type": "stream",
     "text": [
      "961/1296\n"
     ]
    }
   ],
   "source": [
    "from fractions import Fraction\n",
    "\n",
    "p_not_5 = Fraction(31, 36)\n",
    "p_least_3_rolls = p_not_5**2\n",
    "print(p_least_3_rolls)"
   ]
  }
 ],
 "metadata": {
  "kernelspec": {
   "display_name": "Python 3 (ipykernel)",
   "language": "python",
   "name": "python3"
  },
  "language_info": {
   "codemirror_mode": {
    "name": "ipython",
    "version": 3
   },
   "file_extension": ".py",
   "mimetype": "text/x-python",
   "name": "python",
   "nbconvert_exporter": "python",
   "pygments_lexer": "ipython3",
   "version": "3.11.0rc1"
  }
 },
 "nbformat": 4,
 "nbformat_minor": 5
}
