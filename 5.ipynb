{
 "cells": [
  {
   "cell_type": "markdown",
   "id": "277e74c8-0ea6-4b76-99e2-09d059780cc7",
   "metadata": {},
   "source": [
    "# Задание 5\n",
    "\n",
    "У Юры есть датасет, содержащий 15 объектов и 2 признака, причём точки, соответствующие объектам, являются вершинами правильного 15-угольника. Юра тестирует на этом датасете алгоритм k-means (количество кластеров `k=3`, стандартная евклидова метрика на плоскости), состоящий из следующих шагов.\n",
    "Из точек датасета случайно выбираются 3 точки `C1`, `C2`, `C3` – изначальные центры кластеров.\n",
    "\n",
    "Пока разбиение на кластеры не стабилизируется:\n",
    "- (E-шаг) Каждая точка `A` датасета относится к кластеру, который соответствует ближайшему центру: значение кластера равно значению `k`, для которого величина `||A − Ck||` минимальна.\n",
    "- (M-шаг) Центром `Ck` каждого кластера назначается центр масс точек данного кластера.\n",
    "\n",
    "Юра не терпит неопределенностей и не хочет долго ждать, поэтому ему хочется, чтобы выполнялось два условия.\n",
    "- При первом выполнении E-шага каждая точка однозначно отнесётся к ближайшему центру: ни для одной точки `A` из датасета не будет двух центров кластеров на одном и том же минимальном расстоянии от `A`.\n",
    "- Кластеризация после второго выполнение E-шага полностью совпадёт с кластеризацией после первого выполнения Е-шага, и алгоритм завершится.\n",
    "\n",
    "Найдите вероятность того, что при случайной инициализации центров кластеров эти два условия будут выполнены."
   ]
  },
  {
   "cell_type": "code",
   "execution_count": 1,
   "id": "28e9c307-0aca-4991-bca6-62236eb720b3",
   "metadata": {},
   "outputs": [
    {
     "data": {
      "text/plain": [
       "<Axes: >"
      ]
     },
     "execution_count": 1,
     "metadata": {},
     "output_type": "execute_result"
    },
    {
     "data": {
      "image/png": "[encoded data removed]",
      "text/plain": [
       "<Figure size 640x480 with 1 Axes>"
      ]
     },
     "metadata": {},
     "output_type": "display_data"
    }
   ],
   "source": [
    "import numpy as np\n",
    "import seaborn as sns\n",
    "from math import pi\n",
    "\n",
    "# Emulate regular polygon as points on circle of radius one\n",
    "def to_points(x):\n",
    "    coeff = (2 * pi) / 15\n",
    "    angles = coeff * x\n",
    "    return np.column_stack((np.cos(angles), np.sin(angles)))\n",
    "\n",
    "x_indices = range(15)\n",
    "X = np.fromiter(x_indices, dtype=np.float64)\n",
    "X = to_points(X)\n",
    "sns.scatterplot(x=X[..., 0], y=X[..., 1])"
   ]
  },
  {
   "cell_type": "code",
   "execution_count": 2,
   "id": "ca816275-7b75-4d95-af4b-7e1fe2c0cbb3",
   "metadata": {},
   "outputs": [],
   "source": [
    "from itertools import combinations\n",
    "from scipy.spatial import distance_matrix\n",
    "from sklearn.metrics import pairwise_distances_argmin\n",
    "\n",
    "total = 0\n",
    "correct = []\n",
    "\n",
    "for centers in combinations(x_indices, 3):\n",
    "    total += 1\n",
    "    center_coords = X[centers, :]\n",
    "    d = distance_matrix(X, center_coords)\n",
    "    clusters = np.argmin(d, axis=1)\n",
    "\n",
    "    # First rule\n",
    "    bad = False\n",
    "    for i in x_indices:\n",
    "        cluster = clusters[i]\n",
    "        distances = d[i]\n",
    "        bad = bad or np.isclose(distances[cluster], np.min(distances[cluster != range(3)]))\n",
    "    if bad:\n",
    "        continue\n",
    "\n",
    "    # Second rule\n",
    "    new_centers = np.array([X[clusters == i].mean(0) for i in range(3)], dtype=np.float64)\n",
    "    new_clusters = pairwise_distances_argmin(X, new_centers)\n",
    "    if np.alltrue(new_clusters == clusters):\n",
    "        correct.append(centers)"
   ]
  },
  {
   "cell_type": "code",
   "execution_count": 3,
   "id": "ce144293-fbcc-4701-82b2-8c6c0aacbb5d",
   "metadata": {},
   "outputs": [
    {
     "name": "stdout",
     "output_type": "stream",
     "text": [
      "1/13\n"
     ]
    }
   ],
   "source": [
    "from math import gcd\n",
    "\n",
    "hi = len(correct)\n",
    "lo = total\n",
    "c = gcd(hi, lo)\n",
    "\n",
    "hi //= c\n",
    "lo //= c\n",
    "print(f'{hi}/{lo}')"
   ]
  },
  {
   "cell_type": "code",
   "execution_count": 4,
   "id": "4c2f94e8-a44a-4a29-ad63-d050b64ff110",
   "metadata": {},
   "outputs": [
    {
     "data": {
      "text/plain": [
       "[(0, 3, 8),\n",
       " (0, 3, 10),\n",
       " (0, 5, 8),\n",
       " (0, 5, 10),\n",
       " (0, 5, 12),\n",
       " (0, 7, 10),\n",
       " (0, 7, 12),\n",
       " (1, 4, 9),\n",
       " (1, 4, 11),\n",
       " (1, 6, 9),\n",
       " (1, 6, 11),\n",
       " (1, 6, 13),\n",
       " (1, 8, 11),\n",
       " (1, 8, 13),\n",
       " (2, 5, 10),\n",
       " (2, 5, 12),\n",
       " (2, 7, 10),\n",
       " (2, 7, 12),\n",
       " (2, 7, 14),\n",
       " (2, 9, 12),\n",
       " (2, 9, 14),\n",
       " (3, 6, 11),\n",
       " (3, 6, 13),\n",
       " (3, 8, 11),\n",
       " (3, 8, 13),\n",
       " (3, 10, 13),\n",
       " (4, 7, 12),\n",
       " (4, 7, 14),\n",
       " (4, 9, 12),\n",
       " (4, 9, 14),\n",
       " (4, 11, 14),\n",
       " (5, 8, 13),\n",
       " (5, 10, 13),\n",
       " (6, 9, 14),\n",
       " (6, 11, 14)]"
      ]
     },
     "execution_count": 4,
     "metadata": {},
     "output_type": "execute_result"
    }
   ],
   "source": [
    "correct"
   ]
  },
  {
   "cell_type": "code",
   "execution_count": 5,
   "id": "dfe513f5-1772-4a83-a669-6403ab6cad34",
   "metadata": {},
   "outputs": [],
   "source": [
    "def get_clusters(permutation):\n",
    "    centers = X[permutation, :]\n",
    "    clusters = pairwise_distances_argmin(X, centers)\n",
    "    return clusters"
   ]
  },
  {
   "cell_type": "code",
   "execution_count": 6,
   "id": "e153fca3-8204-4b6d-a9ef-ef57fbb38588",
   "metadata": {},
   "outputs": [
    {
     "name": "stdout",
     "output_type": "stream",
     "text": [
      "[0 0 1 1 1 1 2 2 2 2 2 2 0 0 0]\n",
      "[0 0 1 1 1 1 1 2 2 2 2 2 2 0 0]\n",
      "[0 0 0 1 1 1 1 2 2 2 2 2 0 0 0]\n",
      "[0 0 0 1 1 1 1 1 2 2 2 2 2 0 0]\n",
      "[0 0 0 1 1 1 1 1 1 2 2 2 2 2 0]\n",
      "[0 0 0 0 1 1 1 1 1 2 2 2 2 0 0]\n",
      "[0 0 0 0 1 1 1 1 1 1 2 2 2 2 0]\n",
      "[0 0 0 1 1 1 1 2 2 2 2 2 2 0 0]\n",
      "[0 0 0 1 1 1 1 1 2 2 2 2 2 2 0]\n",
      "[0 0 0 0 1 1 1 1 2 2 2 2 2 0 0]\n",
      "[0 0 0 0 1 1 1 1 1 2 2 2 2 2 0]\n",
      "[0 0 0 0 1 1 1 1 1 1 2 2 2 2 2]\n",
      "[0 0 0 0 0 1 1 1 1 1 2 2 2 2 0]\n",
      "[0 0 0 0 0 1 1 1 1 1 1 2 2 2 2]\n",
      "[0 0 0 0 1 1 1 1 2 2 2 2 2 2 0]\n",
      "[0 0 0 0 1 1 1 1 1 2 2 2 2 2 2]\n",
      "[0 0 0 0 0 1 1 1 1 2 2 2 2 2 0]\n",
      "[0 0 0 0 0 1 1 1 1 1 2 2 2 2 2]\n",
      "[2 0 0 0 0 1 1 1 1 1 1 2 2 2 2]\n",
      "[0 0 0 0 0 0 1 1 1 1 1 2 2 2 2]\n",
      "[2 0 0 0 0 0 1 1 1 1 1 1 2 2 2]\n",
      "[0 0 0 0 0 1 1 1 1 2 2 2 2 2 2]\n",
      "[2 0 0 0 0 1 1 1 1 1 2 2 2 2 2]\n",
      "[0 0 0 0 0 0 1 1 1 1 2 2 2 2 2]\n",
      "[2 0 0 0 0 0 1 1 1 1 1 2 2 2 2]\n",
      "[2 0 0 0 0 0 0 1 1 1 1 1 2 2 2]\n",
      "[2 0 0 0 0 0 1 1 1 1 2 2 2 2 2]\n",
      "[2 2 0 0 0 0 1 1 1 1 1 2 2 2 2]\n",
      "[2 0 0 0 0 0 0 1 1 1 1 2 2 2 2]\n",
      "[2 2 0 0 0 0 0 1 1 1 1 1 2 2 2]\n",
      "[2 2 0 0 0 0 0 0 1 1 1 1 1 2 2]\n",
      "[2 2 0 0 0 0 0 1 1 1 1 2 2 2 2]\n",
      "[2 2 0 0 0 0 0 0 1 1 1 1 2 2 2]\n",
      "[2 2 2 0 0 0 0 0 1 1 1 1 2 2 2]\n",
      "[2 2 2 0 0 0 0 0 0 1 1 1 1 2 2]\n"
     ]
    }
   ],
   "source": [
    "for permutation in correct:\n",
    "    print(get_clusters(permutation))"
   ]
  }
 ],
 "metadata": {
  "kernelspec": {
   "display_name": "Python 3 (ipykernel)",
   "language": "python",
   "name": "python3"
  },
  "language_info": {
   "codemirror_mode": {
    "name": "ipython",
    "version": 3
   },
   "file_extension": ".py",
   "mimetype": "text/x-python",
   "name": "python",
   "nbconvert_exporter": "python",
   "pygments_lexer": "ipython3",
   "version": "3.11.0rc1"
  }
 },
 "nbformat": 4,
 "nbformat_minor": 5
}
