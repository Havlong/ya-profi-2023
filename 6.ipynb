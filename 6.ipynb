{
 "cells": [
  {
   "cell_type": "markdown",
   "id": "5c3603a0-4f85-4ad4-8f97-1ad6b9a0bf26",
   "metadata": {},
   "source": [
    "# Задание 6\n",
    "\n",
    "For a graph of calculations replace 4 learnable matrices with their frozen state and learnable decomposition of rank $r_i$\n",
    "\n",
    "Choose such natural values of rank, so that the number of learnable params is reduced by the factor of 3"
   ]
  },
  {
   "cell_type": "code",
   "execution_count": 1,
   "id": "dcb3d215-c9a6-44fb-9049-e4cdf6567f54",
   "metadata": {},
   "outputs": [],
   "source": [
    "matrices = [(10, 30), (10, 5), (10, 5), (10, 20)]\n",
    "ranks = [2, 2, 2, 2]\n",
    "\n",
    "total_params = [n * m for n, m in matrices]\n",
    "compressed = [ranks[i] * n + ranks[i] * m for i, (n, m) in enumerate(matrices)]"
   ]
  },
  {
   "cell_type": "code",
   "execution_count": 2,
   "id": "3f65cb6e-0658-4833-928b-3dee62ac1286",
   "metadata": {},
   "outputs": [
    {
     "data": {
      "text/plain": [
       "([300, 50, 50, 200], [80, 30, 30, 60])"
      ]
     },
     "execution_count": 2,
     "metadata": {},
     "output_type": "execute_result"
    }
   ],
   "source": [
    "total_params, compressed"
   ]
  },
  {
   "cell_type": "code",
   "execution_count": 3,
   "id": "6906ff92-eda5-4148-91f3-01afad8be62b",
   "metadata": {},
   "outputs": [
    {
     "data": {
      "text/plain": [
       "(600, 200)"
      ]
     },
     "execution_count": 3,
     "metadata": {},
     "output_type": "execute_result"
    }
   ],
   "source": [
    "sum(total_params), sum(compressed)"
   ]
  }
 ],
 "metadata": {
  "kernelspec": {
   "display_name": "Python 3 (ipykernel)",
   "language": "python",
   "name": "python3"
  },
  "language_info": {
   "codemirror_mode": {
    "name": "ipython",
    "version": 3
   },
   "file_extension": ".py",
   "mimetype": "text/x-python",
   "name": "python",
   "nbconvert_exporter": "python",
   "pygments_lexer": "ipython3",
   "version": "3.11.0rc1"
  }
 },
 "nbformat": 4,
 "nbformat_minor": 5
}
