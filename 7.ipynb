{
 "cells": [
  {
   "cell_type": "markdown",
   "id": "7e1bd49e-72c3-4ac8-b287-1ae8442fc51d",
   "metadata": {},
   "source": [
    "# Задание 7\n",
    "\n",
    "Даны несколько колод с картами для гадания. Процесс гадания выглядит следующим образом:\n",
    "- Повторить три раза:\n",
    "    - Взять карту из колоды случайным образом\n",
    "    - Записать число\n",
    "    - Положить карту обратно в колоду\n",
    "- Сложить минимальное и максимальное из записанных чисел, сумма является результатом\n",
    "\n",
    "Выберите колоду с максимальным математическим ожиданием результата и выведите это значение\n",
    "\n",
    "### Ввод\n",
    "```\n",
    "2\n",
    "8\n",
    "1 2 2 3 3 3 3 4\n",
    "5\n",
    "1 1 4 5 6\n",
    "```\n",
    "\n",
    "### Вывод\n",
    "```\n",
    "2 6.8000000\n",
    "```"
   ]
  },
  {
   "cell_type": "code",
   "execution_count": 1,
   "id": "2afa616c-dcf7-4e08-8b2f-d727fa79610d",
   "metadata": {},
   "outputs": [
    {
     "name": "stdin",
     "output_type": "stream",
     "text": [
      " 2\n",
      " 8\n",
      " 1 2 2 3 3 3 3 4\n",
      " 5\n",
      " 1 1 4 5 6\n"
     ]
    }
   ],
   "source": [
    "# Количество колод\n",
    "num_decks = int(input())\n",
    "# Размеры колод\n",
    "deck_sizes = []\n",
    "# Информация о каждой колоде\n",
    "decks = []\n",
    "\n",
    "for i in range(num_decks):\n",
    "    deck_sizes.append(int(input()))\n",
    "    decks.append(list(map(int, input().split())))"
   ]
  },
  {
   "cell_type": "markdown",
   "id": "08f8a242-ce4e-45b5-bd82-f4d7a2c3b779",
   "metadata": {},
   "source": [
    "## Brute Force"
   ]
  },
  {
   "cell_type": "code",
   "execution_count": 3,
   "id": "74294173-53c3-4ed9-8528-68bafe1865ec",
   "metadata": {},
   "outputs": [
    {
     "name": "stdout",
     "output_type": "stream",
     "text": [
      "571 99894.00000\n"
     ]
    }
   ],
   "source": [
    "import itertools\n",
    "import numpy as np\n",
    "\n",
    "# Словарь для хранения математического ожидания каждой колоды\n",
    "expectations = []\n",
    "\n",
    "for i, cards in enumerate(decks):\n",
    "    size = deck_sizes[i]\n",
    "\n",
    "    # Генерируем все возможные комбинации из трех карт\n",
    "    combinations = list(itertools.combinations_with_replacement(cards, 3))\n",
    "\n",
    "    # Вычисляем сумму минимального и максимального значения для каждой комбинации\n",
    "    sums = [min(combo) + max(combo) for combo in combinations]\n",
    "\n",
    "    # Вычисляем математическое ожидание\n",
    "    expectations.append(np.mean(sums))\n",
    "\n",
    "# Находим колоду с наибольшим математическим ожиданием\n",
    "best_deck = np.argmax(expectations) + 1\n",
    "best_expectation = expectations[best_deck - 1]\n",
    "\n",
    "print(f'{best_deck} {best_expectation:.5f}') "
   ]
  },
  {
   "cell_type": "markdown",
   "id": "89e11c38-1fe2-474c-a3a5-97ca5307bcae",
   "metadata": {},
   "source": [
    "## Max of N + Min of N\n",
    "\n",
    "Calculate expected values for minimum and maximum of three draws and sum them up"
   ]
  },
  {
   "cell_type": "code",
   "execution_count": 11,
   "id": "0c1808d6-a109-4220-86ec-910400e4c3e2",
   "metadata": {},
   "outputs": [
    {
     "name": "stdout",
     "output_type": "stream",
     "text": [
      "571 99894.00000\n"
     ]
    }
   ],
   "source": [
    "ans = 0\n",
    "mx = 0\n",
    "\n",
    "for deck_i, cards in enumerate(decks):\n",
    "    n = len(cards)\n",
    "\n",
    "    expected_max = 0\n",
    "    for i, card in enumerate(sorted(cards)):\n",
    "        le_prob = ((i + 1) ** 3) / (n ** 3)\n",
    "        l_prob = (i ** 3) / (n ** 3)\n",
    "        expected_max += card * (le_prob - l_prob)\n",
    "\n",
    "    expected_min = 0\n",
    "    for i, card in enumerate(sorted(cards, reverse=True)):\n",
    "        le_prob = ((i + 1) ** 3) / (n ** 3)\n",
    "        l_prob = (i ** 3) / (n ** 3)\n",
    "        expected_min += card * (le_prob - l_prob)\n",
    "\n",
    "    ev = expected_min + expected_max\n",
    "    \n",
    "    if ev > mx:\n",
    "        ans = deck_i + 1\n",
    "        mx = ev\n",
    "\n",
    "print(f'{ans} {mx:.5f}')"
   ]
  }
 ],
 "metadata": {
  "kernelspec": {
   "display_name": "Python 3 (ipykernel)",
   "language": "python",
   "name": "python3"
  },
  "language_info": {
   "codemirror_mode": {
    "name": "ipython",
    "version": 3
   },
   "file_extension": ".py",
   "mimetype": "text/x-python",
   "name": "python",
   "nbconvert_exporter": "python",
   "pygments_lexer": "ipython3",
   "version": "3.11.0rc1"
  }
 },
 "nbformat": 4,
 "nbformat_minor": 5
}
